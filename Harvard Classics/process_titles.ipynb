{
 "cells": [
  {
   "cell_type": "code",
   "execution_count": 2,
   "metadata": {},
   "outputs": [],
   "source": [
    "# Reconstructing the dictionary with the publishing dates for the provided works\n",
    "work_dates = {\n",
    "    'Franklin - His Autobiography': 1793,\n",
    "    'Woolman - The Journal of John Woolman': 1774,\n",
    "    'Penn - Fruits of Solitude': 1693,\n",
    "    'Plato - Apology': -399,\n",
    "    'Plato - Phaedo': -360,\n",
    "    'Plato - Crito': -360,\n",
    "    'Epictetus - The Golden Sayings': 135,\n",
    "    'Aurelius - The Meditations': 180,\n",
    "    'Bacon - Essays, Civil and Moral': 1597,\n",
    "    'Bacon - The New Atlantis': 1627,\n",
    "    'Milton - Areopagitica': 1644,\n",
    "    'Milton - Tractate of Education': 1644,\n",
    "    'Browne - Religio Medici': 1643,\n",
    "    'Milton - Complete poems': 1673, # Taking the date of the collection\n",
    "    'Emerson - Essays': 1841,\n",
    "    'Emerson - English Traits': 1856,\n",
    "    'Burns - Poems and songs': 1786, # Date of first collection\n",
    "    'Augustine - The Confessions': 398,\n",
    "    'Kempis - The Imitation of Christ': 1418,\n",
    "    'Aeschylus - Agamemnon': -458,\n",
    "    'Aeschylus - The Libation Bearers': -458,\n",
    "    'Aeschylus - The Furies': -458,\n",
    "    'Aeschylus - Prometheus Bound': -430,\n",
    "    'Sophocles - Oedipus the King': -429,\n",
    "    'Sophocles - Antigone': -441,\n",
    "    'Euripides - Hippolytus': -428,\n",
    "    'Euripides - The Bacchae': -405,\n",
    "    'Aristophanes - The Frogs': -405,\n",
    "    'Cicero - On Friendship, On Old Age': -44,\n",
    "    'Cicero - Letters': -68, # The date range is vast, taking an average date\n",
    "    'Pliny the Younger - Letters': 97, # Taking the date of the first collection\n",
    "    'Smith - The Wealth of Nations': 1776,\n",
    "    'Darwin - The Origin of Species': 1859,\n",
    "    'Plutarch - Lives': 120, # Taking the date of the first collection\n",
    "    'Virgil - Æneid': -19,\n",
    "    'Cervantes - Don Quixote, part 1': 1605,\n",
    "    'Bunyan - The Pilgrim\\'s Progress': 1678,\n",
    "    'Walton - The Lives of Donne and Herbert': 1670, # Date for Donne's life; Herbert's life added later\n",
    "    'Aesop - Fables': -600, # Taking an average date as Aesop's fables were orally transmitted before being written down\n",
    "    'Grimm - Children\\'s and Household Tales': 1812,\n",
    "    'Andersen - Tales': 1835, # Taking the date of the first collection\n",
    "    'Dryden - All for Love': 1677,\n",
    "    'Sheridan - The School for Scandal': 1777,\n",
    "    'Goldsmith - She Stoops to Conquer': 1773,\n",
    "    'Shelley - The Cenci': 1819,\n",
    "    'Browning - A Blot in the \\'Scutcheon': 1843,\n",
    "    'Byron - Manfred': 1817,\n",
    "    'Goethe - Faust, part 1': 1808,\n",
    "    'Goethe - Egmont': 1788,\n",
    "    'Goethe - Hermann and Dorothea': 1797,\n",
    "    'Marlowe - Dr. Faustus': 1592,\n",
    "    'Dante - The Divine Comedy': 1320,\n",
    "    'Manzoni - I Promessi Sposi': 1827,\n",
    "    'Homer - The Odyssey': -700, # Taking an average date as the exact date is uncertain\n",
    "    'Dana - Two Years Before the Mast': 1840,\n",
    "    'Burke - On Taste': 1757,\n",
    "    'Burke - On the Sublime and Beautiful': 1757,\n",
    "    'Burke - Reflections on the French Revolution': 1790,\n",
    "    'Burke - A Letter to a Noble Lord': 1796,\n",
    "    'Mill - Autobiography': 1873,\n",
    "    'Mill - On Liberty': 1859,\n",
    "    'Carlyle - Characteristics': 1831,\n",
    "    'Carlyle - Inaugural Address at Edinburgh': 1866,\n",
    "    'Carlyle - Sir Walter Scott': 1838,\n",
    "    'Barca - Life is a Dream': 1635,\n",
    "    'Corneille - Polyeucte': 1643,\n",
    "\n",
    "\n",
    "    'Racine - Phèdre': 1677,\n",
    "    'Molière - Tartuffe': 1664,\n",
    "    'Lessing - Minna von Barnhelm': 1767,\n",
    "    'Schiller - William Tell': 1804,\n",
    "    'Darwin - The Voyage of the Beagle': 1839,\n",
    "    'Faraday - The Forces of Matter': 1851,\n",
    "    'Faraday - The Chemical History of a Candle': 1861,\n",
    "    'Helmholtz - On the Conservation of Force': 1847,\n",
    "    'Helmholtz - Ice and Glaciers': 1865,\n",
    "    'Kelvin - The Wave Theory of Light': 1884,\n",
    "    'Kelvin - The Tides': 1867,\n",
    "    'Newcomb - The Extent of the Universe': 1900,\n",
    "    'Geikie - Geographical Evolution': 1879,\n",
    "    'Montaigne - Essays': 1580,\n",
    "    'Sainte-Beuve - Montaigne': 1862,\n",
    "    'Sainte-Beuve - What is a Classic?': 1850,\n",
    "    'Renan - The Poetry of the Celtic Races': 1854,\n",
    "    'Lessing - The Education of the Human Race': 1780,\n",
    "    'Schiller - Letters upon the Aesthetic Education of Man': 1795,\n",
    "    'Kant - Fundamental Principles of the Metaphysic of Morals': 1785,\n",
    "    'Mazzini - Byron and Goethe': 1865,\n",
    "    'Herodotus - An account of Egypt from The Histories': -425,\n",
    "    'Tacitus - Germany': 98,\n",
    "    'Nichols - Sir Francis Drake Revived': 1626,\n",
    "    'Pretty - Sir Francis Drake\\'s Famous Voyage Round the World': 1589,\n",
    "    'Bigges - Drake\\'s Great Armada': 1588,\n",
    "    'Haies - Sir Humphrey Gilbert\\'s Voyage to Newfoundland': 1583,\n",
    "    'Raleigh - The Discovery of Guiana': 1596,\n",
    "    'Descartes - Discourse on Method': 1637,\n",
    "    'Voltaire - Letters on the English': 1733,\n",
    "    'Rousseau - On the Inequality among Mankind': 1755,\n",
    "    'Rousseau - Profession of Faith of a Savoyard Vicar': 1762,\n",
    "    'Hobbes - Of Man, Being the First Part of Leviathan': 1651,\n",
    "    'Froissart - Chronicles': 1400,  # Date for the first known complete edition\n",
    "    'Malory - The Holy Grail': 1485,  # Part of \"Le Morte d'Arthur\"\n",
    "    'Harrison - A Description of Elizabethan England': 1577,\n",
    "    'Machiavelli - The Prince': 1532,\n",
    "    'Roper - The Life of Sir Thomas More': 1626,\n",
    "    'More - Utopia': 1516,\n",
    "    'Luther - The Ninety-Five Theses': 1517,\n",
    "    'Luther - To the Christian Nobility of the German Nation': 1520,\n",
    "    'Luther - On the Freedom of a Christian': 1520,\n",
    "    'Locke - Some Thoughts Concerning Education': 1693,\n",
    "    'Berkeley - Three Dialogues Between Hylas and Philonous in Opposition to Sceptics and Atheists': 1713,\n",
    "    'Hume - An Enquiry Concerning Human Understanding': 1748,\n",
    "    'Paré - Journeys in Diverse Places': 1585,\n",
    "    'Harvey - On the Motion of the Heart and Blood in Animals': 1628,\n",
    "    'Jenner - The Three Original Publications on Vaccination Against Smallpox': 1798,\n",
    "    'Holmes - The Contagiousness of Puerperal Fever': 1843,\n",
    "    'Lister - On the Antiseptic Principle of the Practice of Surgery': 1867,\n",
    "    'Pasteur - Scientific papers': 1885,  # Date for collection of his papers\n",
    "    'Lyell - Scientific papers': 1881,  # Date for collection of his papers\n",
    "    'Marlowe - Edward the Second': 1592,\n",
    "    'Shakespeare - The Tragedy of Hamlet, Prince of Denmark': 1603,\n",
    "    'Shakespeare - King Lear': 1608,\n",
    "    'Shakespeare - Macbeth': 1623,  # First Folio publication\n",
    "    'Shakespeare - The Tempest': 1623,  # First Folio publication\n",
    "    'Dekker - The Shoemaker\\'s Holiday': 1600,\n",
    "    'Jonson - The Alchemist': 1610,\n",
    "    'Fletcher - Philaster': 1620,\n",
    "    'Webster - The Duchess of Malfi': 1623,\n",
    "    'Massinger - A New Way to Pay Old Debts': 1633,\n",
    "    'Pascal - Thoughts': 1670,\n",
    "    'Pascal - Letters, and minor works': 1657  # Date for posthumous collection of his letters\n",
    "}\n"
   ]
  },
  {
   "cell_type": "code",
   "execution_count": 5,
   "metadata": {},
   "outputs": [
    {
     "name": "stdout",
     "output_type": "stream",
     "text": [
      "Aesop   Fables\n"
     ]
    }
   ],
   "source": [
    "tst = 'Aesop - Fables'\n",
    "author, title = tst.split('-')\n",
    "print(author, title)"
   ]
  },
  {
   "cell_type": "code",
   "execution_count": 17,
   "metadata": {},
   "outputs": [],
   "source": [
    "strings = []\n",
    "for work, date in work_dates.items():\n",
    "    # split date\n",
    "    author, title = work.split(' - ')\n",
    "    #strings.append(author + str(date) + '-' + title + ' (book)')\n",
    "    formatted_string = f'## [[{author} {date} - {title} (book)]]'\n",
    "    strings.append(formatted_string)"
   ]
  },
  {
   "cell_type": "code",
   "execution_count": 18,
   "metadata": {},
   "outputs": [],
   "source": [
    "# File path\n",
    "file_path = './Harvard Classics/my_books_wiki.txt'\n",
    "\n",
    "# Open the file in write mode and write the strings to it\n",
    "def tofile(filepath, strings):\n",
    "    with open(filepath, 'w') as file:\n",
    "        for line in strings:\n",
    "            file.write(line + '\\n')"
   ]
  },
  {
   "cell_type": "code",
   "execution_count": 5,
   "metadata": {},
   "outputs": [],
   "source": [
    "# File path\n",
    "#file_path = './Harvard Classics/formatted_books_with_years_all.txt'\n",
    "file_path = '/Users/trond/Documents/syntopicon/Harvard Classics/formatted_books_with_years_all.txt'\n",
    "fiction_list = []\n",
    "# Open the file in write mode and write the strings to it\n",
    "with open(file_path, 'r') as file:\n",
    "    for line in file:\n",
    "        fiction_list.append(line)"
   ]
  },
  {
   "cell_type": "code",
   "execution_count": 21,
   "metadata": {},
   "outputs": [],
   "source": [
    "# File path\n",
    "#file_path = './Harvard Classics/formatted_books_with_years_all.txt'\n",
    "file_path = '/Users/trond/Documents/syntopicon/Harvard Classics/publishing_years_fiction.txt'\n",
    "fiction_list_no_year = []\n",
    "# Open the file in write mode and write the strings to it\n",
    "with open(file_path, 'r') as file:\n",
    "    for line in file:     \n",
    "        fiction_list_no_year.append(line[:-1])"
   ]
  },
  {
   "cell_type": "code",
   "execution_count": null,
   "metadata": {},
   "outputs": [],
   "source": [
    "formatted_entries = []\n",
    "for entry in fiction_list:\n",
    "    title_and_book, rest = entry.split(\" by \")\n",
    "    author_full_name = rest.split(\":\")[0].strip()\n",
    "    author_last_name = author_full_name.split()[-1]\n",
    "    year = rest.split(\":\")[1].strip()\n",
    "    formatted_entry = f\"{author_last_name} {year} - {title_and_book}\"\n",
    "    formatted_entries.append(formatted_entry)\n",
    "\n",
    "# Printing the formatted entries\n",
    "for line in formatted_entries:\n",
    "    print(line)"
   ]
  },
  {
   "cell_type": "code",
   "execution_count": 17,
   "metadata": {},
   "outputs": [
    {
     "data": {
      "text/plain": [
       "'Fielding - The History of Tom Jones, a Foundling (book)'"
      ]
     },
     "execution_count": 17,
     "metadata": {},
     "output_type": "execute_result"
    }
   ],
   "source": [
    "fiction_list_no_year[0]"
   ]
  },
  {
   "cell_type": "code",
   "execution_count": 22,
   "metadata": {},
   "outputs": [
    {
     "name": "stdout",
     "output_type": "stream",
     "text": [
      "Trials and Tribulations (book)\n",
      "Walter Schnaffs’ Adventure (book)\n",
      "Skipper Worse (book\n",
      "Anna Karenina (book)\n",
      "Two Friends (book)\n",
      "Eleonora (book),\n",
      "The Banner of the Upright Seven (book)\n",
      "The Rider on the White Horse (book)\n"
     ]
    }
   ],
   "source": [
    "# Extract titles from list1\n",
    "titles_list1 = {entry.split(\" - \")[1] for entry in formatted_entries}\n",
    "\n",
    "# Extract titles from list2\n",
    "titles_list2 = {entry.split(\" - \")[1] for entry in fiction_list_no_year}\n",
    "\n",
    "# Find the missing entries by comparing the sets\n",
    "missing_entries = titles_list2 - titles_list1\n",
    "\n",
    "# Printing the missing entries\n",
    "for entry in missing_entries:\n",
    "    print(entry)"
   ]
  }
 ],
 "metadata": {
  "kernelspec": {
   "display_name": "Python 3",
   "language": "python",
   "name": "python3"
  },
  "language_info": {
   "codemirror_mode": {
    "name": "ipython",
    "version": 3
   },
   "file_extension": ".py",
   "mimetype": "text/x-python",
   "name": "python",
   "nbconvert_exporter": "python",
   "pygments_lexer": "ipython3",
   "version": "3.11.0"
  },
  "orig_nbformat": 4
 },
 "nbformat": 4,
 "nbformat_minor": 2
}
